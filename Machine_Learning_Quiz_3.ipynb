{
  "nbformat": 4,
  "nbformat_minor": 0,
  "metadata": {
    "colab": {
      "name": "Machine_Learning_Quiz_3.ipynb",
      "provenance": [],
      "collapsed_sections": [],
      "mount_file_id": "16he2EOum3PXSOg1h6h6yKrZ5uuCn8TK7",
      "authorship_tag": "ABX9TyPjWxg5XUunOu20PJ62sg5g",
      "include_colab_link": true
    },
    "kernelspec": {
      "name": "python3",
      "display_name": "Python 3"
    }
  },
  "cells": [
    {
      "cell_type": "markdown",
      "metadata": {
        "id": "view-in-github",
        "colab_type": "text"
      },
      "source": [
        "<a href=\"https://colab.research.google.com/github/dishitk/machine-learning/blob/master/Machine_Learning_Quiz_3.ipynb\" target=\"_parent\"><img src=\"https://colab.research.google.com/assets/colab-badge.svg\" alt=\"Open In Colab\"/></a>"
      ]
    },
    {
      "cell_type": "markdown",
      "metadata": {
        "id": "3yDqQ86YyO09"
      },
      "source": [
        "**Machine Learning Quiz 3**\n",
        "\n",
        "---\n",
        "\n",
        "\n",
        "Task: Visit the link(https://www.kaggle.com/rohitgupta2120/multiple-regression-task) and infer about the summary of the model. Summary report can be found at the last cell of this notebook."
      ]
    },
    {
      "cell_type": "code",
      "metadata": {
        "id": "nLh7SAUalSfX",
        "outputId": "61e4d2ed-dab8-4c6d-e4c7-c011f02c3970",
        "colab": {
          "base_uri": "https://localhost:8080/",
          "height": 71
        }
      },
      "source": [
        "#Libraries used in the kernel\n",
        "\n",
        "import numpy as np # linear algebra\n",
        "import pandas as pd # data processing, CSV file I/O (e.g. pd.read_csv)\n",
        "import seaborn as sns # graphs potting \n",
        "import matplotlib.pyplot as plt\n",
        "from sklearn.model_selection import train_test_split\n",
        "from sklearn.linear_model import LinearRegression\n",
        "from sklearn.metrics import r2_score, classification_report\n",
        "from statsmodels.api import OLS"
      ],
      "execution_count": 1,
      "outputs": [
        {
          "output_type": "stream",
          "text": [
            "/usr/local/lib/python3.6/dist-packages/statsmodels/tools/_testing.py:19: FutureWarning: pandas.util.testing is deprecated. Use the functions in the public API at pandas.testing instead.\n",
            "  import pandas.util.testing as tm\n"
          ],
          "name": "stderr"
        }
      ]
    },
    {
      "cell_type": "code",
      "metadata": {
        "id": "txp6v5WFla6i",
        "outputId": "43e6e97a-d395-418c-93b6-dd876f47e60c",
        "colab": {
          "base_uri": "https://localhost:8080/",
          "height": 272
        }
      },
      "source": [
        "dataframe = pd.read_csv(\"/content/drive/My Drive/Placement_Data_Full_Class.csv\", index_col=\"sl_no\")\n",
        "dataframe.head()"
      ],
      "execution_count": 6,
      "outputs": [
        {
          "output_type": "execute_result",
          "data": {
            "text/html": [
              "<div>\n",
              "<style scoped>\n",
              "    .dataframe tbody tr th:only-of-type {\n",
              "        vertical-align: middle;\n",
              "    }\n",
              "\n",
              "    .dataframe tbody tr th {\n",
              "        vertical-align: top;\n",
              "    }\n",
              "\n",
              "    .dataframe thead th {\n",
              "        text-align: right;\n",
              "    }\n",
              "</style>\n",
              "<table border=\"1\" class=\"dataframe\">\n",
              "  <thead>\n",
              "    <tr style=\"text-align: right;\">\n",
              "      <th></th>\n",
              "      <th>gender</th>\n",
              "      <th>ssc_p</th>\n",
              "      <th>ssc_b</th>\n",
              "      <th>hsc_p</th>\n",
              "      <th>hsc_b</th>\n",
              "      <th>hsc_s</th>\n",
              "      <th>degree_p</th>\n",
              "      <th>degree_t</th>\n",
              "      <th>workex</th>\n",
              "      <th>etest_p</th>\n",
              "      <th>specialisation</th>\n",
              "      <th>mba_p</th>\n",
              "      <th>status</th>\n",
              "      <th>salary</th>\n",
              "    </tr>\n",
              "    <tr>\n",
              "      <th>sl_no</th>\n",
              "      <th></th>\n",
              "      <th></th>\n",
              "      <th></th>\n",
              "      <th></th>\n",
              "      <th></th>\n",
              "      <th></th>\n",
              "      <th></th>\n",
              "      <th></th>\n",
              "      <th></th>\n",
              "      <th></th>\n",
              "      <th></th>\n",
              "      <th></th>\n",
              "      <th></th>\n",
              "      <th></th>\n",
              "    </tr>\n",
              "  </thead>\n",
              "  <tbody>\n",
              "    <tr>\n",
              "      <th>1</th>\n",
              "      <td>M</td>\n",
              "      <td>67.00</td>\n",
              "      <td>Others</td>\n",
              "      <td>91.00</td>\n",
              "      <td>Others</td>\n",
              "      <td>Commerce</td>\n",
              "      <td>58.00</td>\n",
              "      <td>Sci&amp;Tech</td>\n",
              "      <td>No</td>\n",
              "      <td>55.0</td>\n",
              "      <td>Mkt&amp;HR</td>\n",
              "      <td>58.80</td>\n",
              "      <td>Placed</td>\n",
              "      <td>270000.0</td>\n",
              "    </tr>\n",
              "    <tr>\n",
              "      <th>2</th>\n",
              "      <td>M</td>\n",
              "      <td>79.33</td>\n",
              "      <td>Central</td>\n",
              "      <td>78.33</td>\n",
              "      <td>Others</td>\n",
              "      <td>Science</td>\n",
              "      <td>77.48</td>\n",
              "      <td>Sci&amp;Tech</td>\n",
              "      <td>Yes</td>\n",
              "      <td>86.5</td>\n",
              "      <td>Mkt&amp;Fin</td>\n",
              "      <td>66.28</td>\n",
              "      <td>Placed</td>\n",
              "      <td>200000.0</td>\n",
              "    </tr>\n",
              "    <tr>\n",
              "      <th>3</th>\n",
              "      <td>M</td>\n",
              "      <td>65.00</td>\n",
              "      <td>Central</td>\n",
              "      <td>68.00</td>\n",
              "      <td>Central</td>\n",
              "      <td>Arts</td>\n",
              "      <td>64.00</td>\n",
              "      <td>Comm&amp;Mgmt</td>\n",
              "      <td>No</td>\n",
              "      <td>75.0</td>\n",
              "      <td>Mkt&amp;Fin</td>\n",
              "      <td>57.80</td>\n",
              "      <td>Placed</td>\n",
              "      <td>250000.0</td>\n",
              "    </tr>\n",
              "    <tr>\n",
              "      <th>4</th>\n",
              "      <td>M</td>\n",
              "      <td>56.00</td>\n",
              "      <td>Central</td>\n",
              "      <td>52.00</td>\n",
              "      <td>Central</td>\n",
              "      <td>Science</td>\n",
              "      <td>52.00</td>\n",
              "      <td>Sci&amp;Tech</td>\n",
              "      <td>No</td>\n",
              "      <td>66.0</td>\n",
              "      <td>Mkt&amp;HR</td>\n",
              "      <td>59.43</td>\n",
              "      <td>Not Placed</td>\n",
              "      <td>NaN</td>\n",
              "    </tr>\n",
              "    <tr>\n",
              "      <th>5</th>\n",
              "      <td>M</td>\n",
              "      <td>85.80</td>\n",
              "      <td>Central</td>\n",
              "      <td>73.60</td>\n",
              "      <td>Central</td>\n",
              "      <td>Commerce</td>\n",
              "      <td>73.30</td>\n",
              "      <td>Comm&amp;Mgmt</td>\n",
              "      <td>No</td>\n",
              "      <td>96.8</td>\n",
              "      <td>Mkt&amp;Fin</td>\n",
              "      <td>55.50</td>\n",
              "      <td>Placed</td>\n",
              "      <td>425000.0</td>\n",
              "    </tr>\n",
              "  </tbody>\n",
              "</table>\n",
              "</div>"
            ],
            "text/plain": [
              "      gender  ssc_p    ssc_b  hsc_p  ... specialisation  mba_p      status    salary\n",
              "sl_no                                ...                                            \n",
              "1          M  67.00   Others  91.00  ...         Mkt&HR  58.80      Placed  270000.0\n",
              "2          M  79.33  Central  78.33  ...        Mkt&Fin  66.28      Placed  200000.0\n",
              "3          M  65.00  Central  68.00  ...        Mkt&Fin  57.80      Placed  250000.0\n",
              "4          M  56.00  Central  52.00  ...         Mkt&HR  59.43  Not Placed       NaN\n",
              "5          M  85.80  Central  73.60  ...        Mkt&Fin  55.50      Placed  425000.0\n",
              "\n",
              "[5 rows x 14 columns]"
            ]
          },
          "metadata": {
            "tags": []
          },
          "execution_count": 6
        }
      ]
    },
    {
      "cell_type": "code",
      "metadata": {
        "id": "9wDYwtPXmsB1"
      },
      "source": [
        "data_reg = dataframe.copy()\n",
        "data_class = dataframe.copy()"
      ],
      "execution_count": 7,
      "outputs": []
    },
    {
      "cell_type": "code",
      "metadata": {
        "id": "AOMuClPQm0V1",
        "outputId": "c9911d34-8fbf-47b3-dce7-18524363b543",
        "colab": {
          "base_uri": "https://localhost:8080/",
          "height": 279
        }
      },
      "source": [
        "sns.kdeplot(dataframe.mba_p[ dataframe.gender==\"M\"])\n",
        "sns.kdeplot(dataframe.mba_p[ dataframe.gender==\"F\"])\n",
        "plt.legend([\"Male\", \"Female\"])\n",
        "plt.xlabel(\"mba percentage\")\n",
        "plt.show()"
      ],
      "execution_count": 8,
      "outputs": [
        {
          "output_type": "display_data",
          "data": {
            "image/png": "[encoded data removed]",
            "text/plain": [
              "<Figure size 432x288 with 1 Axes>"
            ]
          },
          "metadata": {
            "tags": [],
            "needs_background": "light"
          }
        }
      ]
    },
    {
      "cell_type": "code",
      "metadata": {
        "id": "6H_vTU-Hm_X6",
        "outputId": "57643f1a-de86-4533-80cc-cbd8a23fc0ad",
        "colab": {
          "base_uri": "https://localhost:8080/",
          "height": 379
        }
      },
      "source": [
        "matrix = dataframe.corr()\n",
        "plt.figure(figsize=(8,6))\n",
        "#plot heat map\n",
        "g=sns.heatmap(matrix,annot=True,cmap=\"YlGn_r\")"
      ],
      "execution_count": 9,
      "outputs": [
        {
          "output_type": "display_data",
          "data": {
            "image/png": "[encoded data removed]",
            "text/plain": [
              "<Figure size 576x432 with 2 Axes>"
            ]
          },
          "metadata": {
            "tags": [],
            "needs_background": "light"
          }
        }
      ]
    },
    {
      "cell_type": "code",
      "metadata": {
        "id": "R3pdL0VXnCMq",
        "outputId": "b9fe36ad-940b-4c75-b780-23268cf00506",
        "colab": {
          "base_uri": "https://localhost:8080/",
          "height": 498
        }
      },
      "source": [
        "plt.figure(figsize=(12,8))\n",
        "sns.regplot(x=\"ssc_p\",y=\"mba_p\",data=dataframe)\n",
        "sns.regplot(x=\"hsc_p\",y=\"mba_p\",data=dataframe)\n",
        "plt.legend([\"ssc percentage\", \"hsc percentage\"])\n",
        "plt.ylabel(\"mba percentage\")\n",
        "plt.show()"
      ],
      "execution_count": 10,
      "outputs": [
        {
          "output_type": "display_data",
          "data": {
            "image/png": "[encoded data removed]",
            "text/plain": [
              "<Figure size 864x576 with 1 Axes>"
            ]
          },
          "metadata": {
            "tags": [],
            "needs_background": "light"
          }
        }
      ]
    },
    {
      "cell_type": "code",
      "metadata": {
        "id": "Y8uF4R4tnYEf"
      },
      "source": [
        "X = data_class.iloc[:,[1,3]].values\n",
        "y = data_class.iloc[:,-3].values.reshape(-1,1)"
      ],
      "execution_count": 11,
      "outputs": []
    },
    {
      "cell_type": "code",
      "metadata": {
        "id": "sT60RLt3neg1"
      },
      "source": [
        "X_train, X_test, y_train, y_test = train_test_split( X, y, test_size=0.2, random_state=0)"
      ],
      "execution_count": 12,
      "outputs": []
    },
    {
      "cell_type": "code",
      "metadata": {
        "id": "_HteQabEniLL"
      },
      "source": [
        "regressor = LinearRegression()\n",
        "\n",
        "#train the model\n",
        "regressor.fit(X_train, y_train)\n",
        "\n",
        "#predict the test set(mba_p)\n",
        "y_pred_m = regressor.predict(X_test)"
      ],
      "execution_count": 13,
      "outputs": []
    },
    {
      "cell_type": "code",
      "metadata": {
        "id": "FWXqRPNInoPT",
        "outputId": "67a06f36-91df-4298-db30-4d4917fd72c4",
        "colab": {
          "base_uri": "https://localhost:8080/",
          "height": 34
        }
      },
      "source": [
        "print(\"R2 score: \" + str(r2_score(y_test, y_pred_m)))"
      ],
      "execution_count": 14,
      "outputs": [
        {
          "output_type": "stream",
          "text": [
            "R2 score: 0.1749591688855493\n"
          ],
          "name": "stdout"
        }
      ]
    },
    {
      "cell_type": "code",
      "metadata": {
        "id": "eQmHz_QKntnm",
        "outputId": "78c7a8f3-94eb-4a22-8f64-8d80d9b0bc89",
        "colab": {
          "base_uri": "https://localhost:8080/",
          "height": 51
        }
      },
      "source": [
        "print(regressor.coef_)\n",
        "print(regressor.intercept_)"
      ],
      "execution_count": 15,
      "outputs": [
        {
          "output_type": "stream",
          "text": [
            "[[0.13869167 0.13315395]]\n",
            "[44.04616422]\n"
          ],
          "name": "stdout"
        }
      ]
    },
    {
      "cell_type": "code",
      "metadata": {
        "id": "3qCvJccNn1mD",
        "outputId": "e82b5f29-6796-4231-bd7b-b3024569f72b",
        "colab": {
          "base_uri": "https://localhost:8080/",
          "height": 444
        }
      },
      "source": [
        "summ=OLS(y_train,X_train).fit()\n",
        "summ.summary()"
      ],
      "execution_count": 16,
      "outputs": [
        {
          "output_type": "execute_result",
          "data": {
            "text/html": [
              "<table class=\"simpletable\">\n",
              "<caption>OLS Regression Results</caption>\n",
              "<tr>\n",
              "  <th>Dep. Variable:</th>            <td>y</td>        <th>  R-squared (uncentered):</th>      <td>   0.983</td> \n",
              "</tr>\n",
              "<tr>\n",
              "  <th>Model:</th>                   <td>OLS</td>       <th>  Adj. R-squared (uncentered):</th> <td>   0.983</td> \n",
              "</tr>\n",
              "<tr>\n",
              "  <th>Method:</th>             <td>Least Squares</td>  <th>  F-statistic:       </th>          <td>   5048.</td> \n",
              "</tr>\n",
              "<tr>\n",
              "  <th>Date:</th>             <td>Thu, 22 Oct 2020</td> <th>  Prob (F-statistic):</th>          <td>4.18e-152</td>\n",
              "</tr>\n",
              "<tr>\n",
              "  <th>Time:</th>                 <td>23:22:58</td>     <th>  Log-Likelihood:    </th>          <td> -602.68</td> \n",
              "</tr>\n",
              "<tr>\n",
              "  <th>No. Observations:</th>      <td>   172</td>      <th>  AIC:               </th>          <td>   1209.</td> \n",
              "</tr>\n",
              "<tr>\n",
              "  <th>Df Residuals:</th>          <td>   170</td>      <th>  BIC:               </th>          <td>   1216.</td> \n",
              "</tr>\n",
              "<tr>\n",
              "  <th>Df Model:</th>              <td>     2</td>      <th>                     </th>              <td> </td>    \n",
              "</tr>\n",
              "<tr>\n",
              "  <th>Covariance Type:</th>      <td>nonrobust</td>    <th>                     </th>              <td> </td>    \n",
              "</tr>\n",
              "</table>\n",
              "<table class=\"simpletable\">\n",
              "<tr>\n",
              "   <td></td>     <th>coef</th>     <th>std err</th>      <th>t</th>      <th>P>|t|</th>  <th>[0.025</th>    <th>0.975]</th>  \n",
              "</tr>\n",
              "<tr>\n",
              "  <th>x1</th> <td>    0.5122</td> <td>    0.056</td> <td>    9.099</td> <td> 0.000</td> <td>    0.401</td> <td>    0.623</td>\n",
              "</tr>\n",
              "<tr>\n",
              "  <th>x2</th> <td>    0.4051</td> <td>    0.057</td> <td>    7.132</td> <td> 0.000</td> <td>    0.293</td> <td>    0.517</td>\n",
              "</tr>\n",
              "</table>\n",
              "<table class=\"simpletable\">\n",
              "<tr>\n",
              "  <th>Omnibus:</th>       <td> 1.329</td> <th>  Durbin-Watson:     </th> <td>   1.837</td>\n",
              "</tr>\n",
              "<tr>\n",
              "  <th>Prob(Omnibus):</th> <td> 0.514</td> <th>  Jarque-Bera (JB):  </th> <td>   1.101</td>\n",
              "</tr>\n",
              "<tr>\n",
              "  <th>Skew:</th>          <td> 0.193</td> <th>  Prob(JB):          </th> <td>   0.577</td>\n",
              "</tr>\n",
              "<tr>\n",
              "  <th>Kurtosis:</th>      <td> 3.066</td> <th>  Cond. No.          </th> <td>    12.3</td>\n",
              "</tr>\n",
              "</table><br/><br/>Warnings:<br/>[1] Standard Errors assume that the covariance matrix of the errors is correctly specified."
            ],
            "text/plain": [
              "<class 'statsmodels.iolib.summary.Summary'>\n",
              "\"\"\"\n",
              "                                 OLS Regression Results                                \n",
              "=======================================================================================\n",
              "Dep. Variable:                      y   R-squared (uncentered):                   0.983\n",
              "Model:                            OLS   Adj. R-squared (uncentered):              0.983\n",
              "Method:                 Least Squares   F-statistic:                              5048.\n",
              "Date:                Thu, 22 Oct 2020   Prob (F-statistic):                   4.18e-152\n",
              "Time:                        23:22:58   Log-Likelihood:                         -602.68\n",
              "No. Observations:                 172   AIC:                                      1209.\n",
              "Df Residuals:                     170   BIC:                                      1216.\n",
              "Df Model:                           2                                                  \n",
              "Covariance Type:            nonrobust                                                  \n",
              "==============================================================================\n",
              "                 coef    std err          t      P>|t|      [0.025      0.975]\n",
              "------------------------------------------------------------------------------\n",
              "x1             0.5122      0.056      9.099      0.000       0.401       0.623\n",
              "x2             0.4051      0.057      7.132      0.000       0.293       0.517\n",
              "==============================================================================\n",
              "Omnibus:                        1.329   Durbin-Watson:                   1.837\n",
              "Prob(Omnibus):                  0.514   Jarque-Bera (JB):                1.101\n",
              "Skew:                           0.193   Prob(JB):                        0.577\n",
              "Kurtosis:                       3.066   Cond. No.                         12.3\n",
              "==============================================================================\n",
              "\n",
              "Warnings:\n",
              "[1] Standard Errors assume that the covariance matrix of the errors is correctly specified.\n",
              "\"\"\""
            ]
          },
          "metadata": {
            "tags": []
          },
          "execution_count": 16
        }
      ]
    },
    {
      "cell_type": "code",
      "metadata": {
        "id": "UuzekdHsoBhi",
        "outputId": "971647b8-3bcc-49e6-f48d-f1b330ffaa3f",
        "colab": {
          "base_uri": "https://localhost:8080/",
          "height": 85
        }
      },
      "source": [
        "X = data_class.iloc[:,[1,6]].values\n",
        "y = data_class.iloc[:,-3].values.reshape(-1,1)\n",
        "\n",
        "#splitting into training and test set\n",
        "#from sklearn.model_selection import train_test_split\n",
        "X_train, X_test, y_train, y_test = train_test_split( X, y, test_size=0.2, random_state=0)\n",
        "\n",
        "#Multiple linear regression\n",
        "#from sklearn.linear_model import LinearRegression\n",
        "regressor = LinearRegression()\n",
        "regressor.fit(X_train, y_train)\n",
        "\n",
        "#predict the dependent variable\n",
        "y_pred_m = regressor.predict(X_test)\n",
        "\n",
        "#from sklearn.metrics import r2_score, classification_report\n",
        "print(\"R2 score: \" + str(r2_score(y_test, y_pred_m)))\n",
        "print(\"regression coeff: \" + str(regressor.coef_))\n",
        "print(\"regression intercept: \" + str(regressor.intercept_))\n",
        "print(\"mba_p = 0.12 x ssc_p + 0.22 x degree_p + 39.66\")"
      ],
      "execution_count": 17,
      "outputs": [
        {
          "output_type": "stream",
          "text": [
            "R2 score: 0.2670526417462228\n",
            "regression coeff: [[0.1237819  0.21517005]]\n",
            "regression intercept: [39.65800695]\n",
            "mba_p = 0.12 x ssc_p + 0.22 x degree_p + 39.66\n"
          ],
          "name": "stdout"
        }
      ]
    },
    {
      "cell_type": "code",
      "metadata": {
        "id": "4gVPwLRBoOax",
        "outputId": "64b2b412-7d5d-40b0-d2dc-a21f64e76785",
        "colab": {
          "base_uri": "https://localhost:8080/",
          "height": 85
        }
      },
      "source": [
        "X = data_class.iloc[:,[3,6]].values\n",
        "y = data_class.iloc[:,-3].values.reshape(-1,1)\n",
        "\n",
        "#splitting into training and test set\n",
        "#from sklearn.model_selection import train_test_split\n",
        "X_train, X_test, y_train, y_test = train_test_split( X, y, test_size=0.2, random_state=0)\n",
        "\n",
        "#Multiple linear regression\n",
        "#from sklearn.linear_model import LinearRegression\n",
        "regressor = LinearRegression()\n",
        "regressor.fit(X_train, y_train)\n",
        "y_pred_m = regressor.predict(X_test)\n",
        "\n",
        "#from sklearn.metrics import r2_score, classification_report\n",
        "print(\"R2 score:\" + str(r2_score(y_test, y_pred_m)))\n",
        "print(\"regression coeff:\" + str(regressor.coef_))\n",
        "print(\"regression intercept:\" + str(regressor.intercept_))\n",
        "print(\"mba_p = \" + str(regressor.coef_[0][0]) + \" x hsc_p + \" + str(regressor.coef_[0][1]) + \" x degree_p + \" + str(regressor.intercept_[0]))"
      ],
      "execution_count": 18,
      "outputs": [
        {
          "output_type": "stream",
          "text": [
            "R2 score:0.17616396722600414\n",
            "regression coeff:[[0.13171318 0.22510365]]\n",
            "regression intercept:[38.56332438]\n",
            "mba_p = 0.13171318061863166 x hsc_p + 0.22510364524995355 x degree_p + 38.56332437694495\n"
          ],
          "name": "stdout"
        }
      ]
    },
    {
      "cell_type": "code",
      "metadata": {
        "id": "8lqcJJhsobKJ",
        "outputId": "432bd4cf-7f63-4750-d5a1-d4463f520318",
        "colab": {
          "base_uri": "https://localhost:8080/",
          "height": 34
        }
      },
      "source": [
        "X = data_class.iloc[:,[1,3,6]].values\n",
        "y = data_class.iloc[:,-3].values.reshape(-1,1)\n",
        "\n",
        "#splitting into training and test set\n",
        "#from sklearn.model_selection import train_test_split\n",
        "X_train, X_test, y_train, y_test = train_test_split( X, y, test_size=0.2, random_state=1001)\n",
        "\n",
        "#Multiple linear regression\n",
        "#from sklearn.linear_model import LinearRegression\n",
        "regressor = LinearRegression()\n",
        "regressor.fit(X_train, y_train)"
      ],
      "execution_count": 19,
      "outputs": [
        {
          "output_type": "execute_result",
          "data": {
            "text/plain": [
              "LinearRegression(copy_X=True, fit_intercept=True, n_jobs=None, normalize=False)"
            ]
          },
          "metadata": {
            "tags": []
          },
          "execution_count": 19
        }
      ]
    },
    {
      "cell_type": "code",
      "metadata": {
        "id": "rY6ovKUbohDk",
        "outputId": "4a404587-2aef-44c4-d4b8-c2f0f6f22b46",
        "colab": {
          "base_uri": "https://localhost:8080/",
          "height": 465
        }
      },
      "source": [
        "summ=OLS(y_train,X_train).fit()\n",
        "summ.summary()"
      ],
      "execution_count": 20,
      "outputs": [
        {
          "output_type": "execute_result",
          "data": {
            "text/html": [
              "<table class=\"simpletable\">\n",
              "<caption>OLS Regression Results</caption>\n",
              "<tr>\n",
              "  <th>Dep. Variable:</th>            <td>y</td>        <th>  R-squared (uncentered):</th>      <td>   0.989</td> \n",
              "</tr>\n",
              "<tr>\n",
              "  <th>Model:</th>                   <td>OLS</td>       <th>  Adj. R-squared (uncentered):</th> <td>   0.989</td> \n",
              "</tr>\n",
              "<tr>\n",
              "  <th>Method:</th>             <td>Least Squares</td>  <th>  F-statistic:       </th>          <td>   4980.</td> \n",
              "</tr>\n",
              "<tr>\n",
              "  <th>Date:</th>             <td>Thu, 22 Oct 2020</td> <th>  Prob (F-statistic):</th>          <td>1.34e-164</td>\n",
              "</tr>\n",
              "<tr>\n",
              "  <th>Time:</th>                 <td>23:25:57</td>     <th>  Log-Likelihood:    </th>          <td> -569.34</td> \n",
              "</tr>\n",
              "<tr>\n",
              "  <th>No. Observations:</th>      <td>   172</td>      <th>  AIC:               </th>          <td>   1145.</td> \n",
              "</tr>\n",
              "<tr>\n",
              "  <th>Df Residuals:</th>          <td>   169</td>      <th>  BIC:               </th>          <td>   1154.</td> \n",
              "</tr>\n",
              "<tr>\n",
              "  <th>Df Model:</th>              <td>     3</td>      <th>                     </th>              <td> </td>    \n",
              "</tr>\n",
              "<tr>\n",
              "  <th>Covariance Type:</th>      <td>nonrobust</td>    <th>                     </th>              <td> </td>    \n",
              "</tr>\n",
              "</table>\n",
              "<table class=\"simpletable\">\n",
              "<tr>\n",
              "   <td></td>     <th>coef</th>     <th>std err</th>      <th>t</th>      <th>P>|t|</th>  <th>[0.025</th>    <th>0.975]</th>  \n",
              "</tr>\n",
              "<tr>\n",
              "  <th>x1</th> <td>    0.1817</td> <td>    0.063</td> <td>    2.892</td> <td> 0.004</td> <td>    0.058</td> <td>    0.306</td>\n",
              "</tr>\n",
              "<tr>\n",
              "  <th>x2</th> <td>    0.1940</td> <td>    0.054</td> <td>    3.583</td> <td> 0.000</td> <td>    0.087</td> <td>    0.301</td>\n",
              "</tr>\n",
              "<tr>\n",
              "  <th>x3</th> <td>    0.5572</td> <td>    0.066</td> <td>    8.455</td> <td> 0.000</td> <td>    0.427</td> <td>    0.687</td>\n",
              "</tr>\n",
              "</table>\n",
              "<table class=\"simpletable\">\n",
              "<tr>\n",
              "  <th>Omnibus:</th>       <td> 3.046</td> <th>  Durbin-Watson:     </th> <td>   1.977</td>\n",
              "</tr>\n",
              "<tr>\n",
              "  <th>Prob(Omnibus):</th> <td> 0.218</td> <th>  Jarque-Bera (JB):  </th> <td>   3.043</td>\n",
              "</tr>\n",
              "<tr>\n",
              "  <th>Skew:</th>          <td> 0.284</td> <th>  Prob(JB):          </th> <td>   0.218</td>\n",
              "</tr>\n",
              "<tr>\n",
              "  <th>Kurtosis:</th>      <td> 2.681</td> <th>  Cond. No.          </th> <td>    18.8</td>\n",
              "</tr>\n",
              "</table><br/><br/>Warnings:<br/>[1] Standard Errors assume that the covariance matrix of the errors is correctly specified."
            ],
            "text/plain": [
              "<class 'statsmodels.iolib.summary.Summary'>\n",
              "\"\"\"\n",
              "                                 OLS Regression Results                                \n",
              "=======================================================================================\n",
              "Dep. Variable:                      y   R-squared (uncentered):                   0.989\n",
              "Model:                            OLS   Adj. R-squared (uncentered):              0.989\n",
              "Method:                 Least Squares   F-statistic:                              4980.\n",
              "Date:                Thu, 22 Oct 2020   Prob (F-statistic):                   1.34e-164\n",
              "Time:                        23:25:57   Log-Likelihood:                         -569.34\n",
              "No. Observations:                 172   AIC:                                      1145.\n",
              "Df Residuals:                     169   BIC:                                      1154.\n",
              "Df Model:                           3                                                  \n",
              "Covariance Type:            nonrobust                                                  \n",
              "==============================================================================\n",
              "                 coef    std err          t      P>|t|      [0.025      0.975]\n",
              "------------------------------------------------------------------------------\n",
              "x1             0.1817      0.063      2.892      0.004       0.058       0.306\n",
              "x2             0.1940      0.054      3.583      0.000       0.087       0.301\n",
              "x3             0.5572      0.066      8.455      0.000       0.427       0.687\n",
              "==============================================================================\n",
              "Omnibus:                        3.046   Durbin-Watson:                   1.977\n",
              "Prob(Omnibus):                  0.218   Jarque-Bera (JB):                3.043\n",
              "Skew:                           0.284   Prob(JB):                        0.218\n",
              "Kurtosis:                       2.681   Cond. No.                         18.8\n",
              "==============================================================================\n",
              "\n",
              "Warnings:\n",
              "[1] Standard Errors assume that the covariance matrix of the errors is correctly specified.\n",
              "\"\"\""
            ]
          },
          "metadata": {
            "tags": []
          },
          "execution_count": 20
        }
      ]
    },
    {
      "cell_type": "code",
      "metadata": {
        "id": "vdtQtJ23otqp",
        "outputId": "27539bd5-6632-42da-cf88-a5f26c1543c9",
        "colab": {
          "base_uri": "https://localhost:8080/",
          "height": 34
        }
      },
      "source": [
        "X = data_class.iloc[:,[3,6]].values\n",
        "y = data_class.iloc[:,-3].values.reshape(-1,1)\n",
        "\n",
        "#splitting into training and test set\n",
        "#from sklearn.model_selection import train_test_split\n",
        "X_train, X_test, y_train, y_test = train_test_split( X, y, test_size=0.2, random_state=1001)\n",
        "\n",
        "#Multiple linear regression\n",
        "#from sklearn.linear_model import LinearRegression\n",
        "regressor = LinearRegression()\n",
        "regressor.fit(X_train, y_train)"
      ],
      "execution_count": 21,
      "outputs": [
        {
          "output_type": "execute_result",
          "data": {
            "text/plain": [
              "LinearRegression(copy_X=True, fit_intercept=True, n_jobs=None, normalize=False)"
            ]
          },
          "metadata": {
            "tags": []
          },
          "execution_count": 21
        }
      ]
    },
    {
      "cell_type": "code",
      "metadata": {
        "id": "X_q3O_4aozW5"
      },
      "source": [
        "y_pred_m = regressor.predict(X_test)"
      ],
      "execution_count": 22,
      "outputs": []
    },
    {
      "cell_type": "code",
      "metadata": {
        "id": "FwXFPtM0o1-c",
        "outputId": "c4e9ee11-803e-43ad-a793-305eea94565b",
        "colab": {
          "base_uri": "https://localhost:8080/",
          "height": 444
        }
      },
      "source": [
        "summ=OLS(y_train,X_train).fit()\n",
        "summ.summary()"
      ],
      "execution_count": 23,
      "outputs": [
        {
          "output_type": "execute_result",
          "data": {
            "text/html": [
              "<table class=\"simpletable\">\n",
              "<caption>OLS Regression Results</caption>\n",
              "<tr>\n",
              "  <th>Dep. Variable:</th>            <td>y</td>        <th>  R-squared (uncentered):</th>      <td>   0.988</td> \n",
              "</tr>\n",
              "<tr>\n",
              "  <th>Model:</th>                   <td>OLS</td>       <th>  Adj. R-squared (uncentered):</th> <td>   0.988</td> \n",
              "</tr>\n",
              "<tr>\n",
              "  <th>Method:</th>             <td>Least Squares</td>  <th>  F-statistic:       </th>          <td>   7155.</td> \n",
              "</tr>\n",
              "<tr>\n",
              "  <th>Date:</th>             <td>Thu, 22 Oct 2020</td> <th>  Prob (F-statistic):</th>          <td>8.33e-165</td>\n",
              "</tr>\n",
              "<tr>\n",
              "  <th>Time:</th>                 <td>23:27:22</td>     <th>  Log-Likelihood:    </th>          <td> -573.50</td> \n",
              "</tr>\n",
              "<tr>\n",
              "  <th>No. Observations:</th>      <td>   172</td>      <th>  AIC:               </th>          <td>   1151.</td> \n",
              "</tr>\n",
              "<tr>\n",
              "  <th>Df Residuals:</th>          <td>   170</td>      <th>  BIC:               </th>          <td>   1157.</td> \n",
              "</tr>\n",
              "<tr>\n",
              "  <th>Df Model:</th>              <td>     2</td>      <th>                     </th>              <td> </td>    \n",
              "</tr>\n",
              "<tr>\n",
              "  <th>Covariance Type:</th>      <td>nonrobust</td>    <th>                     </th>              <td> </td>    \n",
              "</tr>\n",
              "</table>\n",
              "<table class=\"simpletable\">\n",
              "<tr>\n",
              "   <td></td>     <th>coef</th>     <th>std err</th>      <th>t</th>      <th>P>|t|</th>  <th>[0.025</th>    <th>0.975]</th>  \n",
              "</tr>\n",
              "<tr>\n",
              "  <th>x1</th> <td>    0.2537</td> <td>    0.051</td> <td>    4.963</td> <td> 0.000</td> <td>    0.153</td> <td>    0.355</td>\n",
              "</tr>\n",
              "<tr>\n",
              "  <th>x2</th> <td>    0.6804</td> <td>    0.051</td> <td>   13.245</td> <td> 0.000</td> <td>    0.579</td> <td>    0.782</td>\n",
              "</tr>\n",
              "</table>\n",
              "<table class=\"simpletable\">\n",
              "<tr>\n",
              "  <th>Omnibus:</th>       <td> 4.630</td> <th>  Durbin-Watson:     </th> <td>   2.022</td>\n",
              "</tr>\n",
              "<tr>\n",
              "  <th>Prob(Omnibus):</th> <td> 0.099</td> <th>  Jarque-Bera (JB):  </th> <td>   3.431</td>\n",
              "</tr>\n",
              "<tr>\n",
              "  <th>Skew:</th>          <td> 0.212</td> <th>  Prob(JB):          </th> <td>   0.180</td>\n",
              "</tr>\n",
              "<tr>\n",
              "  <th>Kurtosis:</th>      <td> 2.453</td> <th>  Cond. No.          </th> <td>    13.1</td>\n",
              "</tr>\n",
              "</table><br/><br/>Warnings:<br/>[1] Standard Errors assume that the covariance matrix of the errors is correctly specified."
            ],
            "text/plain": [
              "<class 'statsmodels.iolib.summary.Summary'>\n",
              "\"\"\"\n",
              "                                 OLS Regression Results                                \n",
              "=======================================================================================\n",
              "Dep. Variable:                      y   R-squared (uncentered):                   0.988\n",
              "Model:                            OLS   Adj. R-squared (uncentered):              0.988\n",
              "Method:                 Least Squares   F-statistic:                              7155.\n",
              "Date:                Thu, 22 Oct 2020   Prob (F-statistic):                   8.33e-165\n",
              "Time:                        23:27:22   Log-Likelihood:                         -573.50\n",
              "No. Observations:                 172   AIC:                                      1151.\n",
              "Df Residuals:                     170   BIC:                                      1157.\n",
              "Df Model:                           2                                                  \n",
              "Covariance Type:            nonrobust                                                  \n",
              "==============================================================================\n",
              "                 coef    std err          t      P>|t|      [0.025      0.975]\n",
              "------------------------------------------------------------------------------\n",
              "x1             0.2537      0.051      4.963      0.000       0.153       0.355\n",
              "x2             0.6804      0.051     13.245      0.000       0.579       0.782\n",
              "==============================================================================\n",
              "Omnibus:                        4.630   Durbin-Watson:                   2.022\n",
              "Prob(Omnibus):                  0.099   Jarque-Bera (JB):                3.431\n",
              "Skew:                           0.212   Prob(JB):                        0.180\n",
              "Kurtosis:                       2.453   Cond. No.                         13.1\n",
              "==============================================================================\n",
              "\n",
              "Warnings:\n",
              "[1] Standard Errors assume that the covariance matrix of the errors is correctly specified.\n",
              "\"\"\""
            ]
          },
          "metadata": {
            "tags": []
          },
          "execution_count": 23
        }
      ]
    },
    {
      "cell_type": "code",
      "metadata": {
        "id": "wY00xACpo6Ha",
        "outputId": "b9091478-35fc-481f-f7b2-326cf8c653fa",
        "colab": {
          "base_uri": "https://localhost:8080/",
          "height": 85
        }
      },
      "source": [
        "print(\"R2 score:\" + str(r2_score(y_test, y_pred_m)))\n",
        "\n",
        "#model p values\n",
        "print(\"regression coeff:\" + str(regressor.coef_))\n",
        "print(\"regression intercept:\" + str(regressor.intercept_))\n",
        "print(\"mba_p = \" + str(regressor.coef_[0][0]) + \" x hsc_p + \" + str(regressor.coef_[0][1]) + \" x degree_p + \" + str(regressor.intercept_[0]))"
      ],
      "execution_count": 24,
      "outputs": [
        {
          "output_type": "stream",
          "text": [
            "R2 score:0.1883460640212925\n",
            "regression coeff:[[0.14059098 0.2137894 ]]\n",
            "regression intercept:[38.89461384]\n",
            "mba_p = 0.14059098107062354 x hsc_p + 0.21378939519548953 x degree_p + 38.89461383778403\n"
          ],
          "name": "stdout"
        }
      ]
    },
    {
      "cell_type": "code",
      "metadata": {
        "id": "kCTHSLP8o9dw",
        "outputId": "c2c5f875-fd91-4051-e315-e7e92bd721c5",
        "colab": {
          "base_uri": "https://localhost:8080/",
          "height": 297
        }
      },
      "source": [
        "np.set_printoptions(precision=2)\n",
        "dff = pd.DataFrame(list(zip(y_test, y_pred_m.round(2))),columns=(\"Target\",\"Predicted\"))\n",
        "dff.head(8)"
      ],
      "execution_count": 25,
      "outputs": [
        {
          "output_type": "execute_result",
          "data": {
            "text/html": [
              "<div>\n",
              "<style scoped>\n",
              "    .dataframe tbody tr th:only-of-type {\n",
              "        vertical-align: middle;\n",
              "    }\n",
              "\n",
              "    .dataframe tbody tr th {\n",
              "        vertical-align: top;\n",
              "    }\n",
              "\n",
              "    .dataframe thead th {\n",
              "        text-align: right;\n",
              "    }\n",
              "</style>\n",
              "<table border=\"1\" class=\"dataframe\">\n",
              "  <thead>\n",
              "    <tr style=\"text-align: right;\">\n",
              "      <th></th>\n",
              "      <th>Target</th>\n",
              "      <th>Predicted</th>\n",
              "    </tr>\n",
              "  </thead>\n",
              "  <tbody>\n",
              "    <tr>\n",
              "      <th>0</th>\n",
              "      <td>[62.54]</td>\n",
              "      <td>[62.23]</td>\n",
              "    </tr>\n",
              "    <tr>\n",
              "      <th>1</th>\n",
              "      <td>[70.81]</td>\n",
              "      <td>[69.42]</td>\n",
              "    </tr>\n",
              "    <tr>\n",
              "      <th>2</th>\n",
              "      <td>[72.14]</td>\n",
              "      <td>[61.62]</td>\n",
              "    </tr>\n",
              "    <tr>\n",
              "      <th>3</th>\n",
              "      <td>[69.7]</td>\n",
              "      <td>[66.47]</td>\n",
              "    </tr>\n",
              "    <tr>\n",
              "      <th>4</th>\n",
              "      <td>[65.48]</td>\n",
              "      <td>[57.92]</td>\n",
              "    </tr>\n",
              "    <tr>\n",
              "      <th>5</th>\n",
              "      <td>[61.31]</td>\n",
              "      <td>[62.01]</td>\n",
              "    </tr>\n",
              "    <tr>\n",
              "      <th>6</th>\n",
              "      <td>[52.64]</td>\n",
              "      <td>[59.02]</td>\n",
              "    </tr>\n",
              "    <tr>\n",
              "      <th>7</th>\n",
              "      <td>[57.65]</td>\n",
              "      <td>[64.04]</td>\n",
              "    </tr>\n",
              "  </tbody>\n",
              "</table>\n",
              "</div>"
            ],
            "text/plain": [
              "    Target Predicted\n",
              "0  [62.54]   [62.23]\n",
              "1  [70.81]   [69.42]\n",
              "2  [72.14]   [61.62]\n",
              "3   [69.7]   [66.47]\n",
              "4  [65.48]   [57.92]\n",
              "5  [61.31]   [62.01]\n",
              "6  [52.64]   [59.02]\n",
              "7  [57.65]   [64.04]"
            ]
          },
          "metadata": {
            "tags": []
          },
          "execution_count": 25
        }
      ]
    },
    {
      "cell_type": "markdown",
      "metadata": {
        "id": "SX4mu_mRsjyT"
      },
      "source": [
        "Inference from model summary report:\n",
        "1. Different predictor variables are taken in consideration for predicting a dependent variable. For example, ssc_p, hsc_p, degree_p\n",
        "2. Heatmap helps to visualise correlation of different variables.\n",
        "3. When ssc_p and hsc_p are taken as predictors, the model summary states p-value as 0.000 from which it can be inferred that they are important variables in predicting the mba_p.\n",
        "4. Taking R2 score as comparision parameter different model equations having different predictors are compared.\n",
        "5. R2 score can be understood as measure in statistics which depicts proportion of the variance for a dependent variable that is explained by predictor variable in regression model. We can see that R2 score is better when predictors are ssc_p and degree_p (0.267 or 26.7%) rather than hsc_p and degree_p (0.176 or 17.6%).\n",
        "6. When model is summarised on predictors ssc_p,hsc_p and degree_p, it can be observed that p-value of ssc_p is 0.004. So it can inferred that ssc_p is not important variable so it is dropped and model is trained again.\n",
        "\n",
        "Overall, this exercise makes us understand with different model comparision parameters to make feature engineering process efficient and accurate."
      ]
    }
  ]
}