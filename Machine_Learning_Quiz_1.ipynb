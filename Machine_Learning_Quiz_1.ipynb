{
  "nbformat": 4,
  "nbformat_minor": 0,
  "metadata": {
    "colab": {
      "name": "Machine Learning Quiz 1.ipynb",
      "provenance": [],
      "authorship_tag": "ABX9TyMhez5ai85G6R7RV2l+/RJW",
      "include_colab_link": true
    },
    "kernelspec": {
      "name": "python3",
      "display_name": "Python 3"
    }
  },
  "cells": [
    {
      "cell_type": "markdown",
      "metadata": {
        "id": "view-in-github",
        "colab_type": "text"
      },
      "source": [
        "<a href=\"https://colab.research.google.com/github/dishitk/machine-learning/blob/master/Machine_Learning_Quiz_1.ipynb\" target=\"_parent\"><img src=\"https://colab.research.google.com/assets/colab-badge.svg\" alt=\"Open In Colab\"/></a>"
      ]
    },
    {
      "cell_type": "markdown",
      "metadata": {
        "id": "7bdSBcFbQI5G",
        "colab_type": "text"
      },
      "source": [
        "## **Dollar Bills Fake Detection Model**\n",
        "To avoid spread of counterfit bills, it gets scanned when accepted by a store. A simple two or binary class classification problem. These model should aim to reduce false positives. Here, positive(1) is detecting that it is a fake bill and negative(0) otherwise. We aim to focus on minimizing false negatives."
      ]
    },
    {
      "cell_type": "markdown",
      "metadata": {
        "id": "Y72AZg6KVna1",
        "colab_type": "text"
      },
      "source": [
        "**Keys**: True Positive(TP), False Positive(FP), True Negative(TN), False Negative(FN)\n",
        "\n",
        "---\n",
        "\n",
        "\n",
        "**Confusion Matrix**: A matrix between predicted(rows) values and actual(columns) values.\n",
        "\n",
        "\n",
        "---\n",
        "\n",
        "\n",
        "**Accuracy**: (TP + TN)/(TP+FP+TN+FN)\n",
        "\n",
        "\n",
        "---\n",
        "\n",
        "\n",
        "**Precision**: (TP)/(TP+FP)\n",
        "\n",
        "\n",
        "---\n",
        "\n",
        "\n",
        "**Recall or Sensitivity**: (TP)/(TP+FN)\n",
        "\n",
        "\n",
        "---\n",
        "\n",
        "**F-1 Score**: (2 * Precision * Recall)/ (Precision + Recall)"
      ]
    },
    {
      "cell_type": "code",
      "metadata": {
        "id": "_HJXcMkeQBqF",
        "colab_type": "code",
        "colab": {}
      },
      "source": [
        "Actual_Labels = [0, 0, 1, 1, 0, 0, 1, 0, 0, 1, 0, 0, 1, 0, 0, 0, 1, 1, 1, 1, 0, \n",
        "                 0, 1, 0, 1, 0, 0, 1, 1, 1, 1, 1, 1, 0, 1, 0, 0, 0, 0, 0, 0, 0, \n",
        "                 1, 1, 1, 1, 1, 0, 0, 0, 0, 0, 0, 1, 1, 1, 1, 1, 1, 0, 0, 1, 1, \n",
        "                 0, 1, 1, 0, 1, 1, 0, 0, 1, 0, 0, 1,1, 1, 1, 0, 0, 0, 0, 0, 0, \n",
        "                 1, 0, 1, 1, 0, 1, 0, 0, 1, 0, 1, 0, 0, 1, 1, 0]"
      ],
      "execution_count": 6,
      "outputs": []
    },
    {
      "cell_type": "code",
      "metadata": {
        "id": "kW2o0JvOT-TM",
        "colab_type": "code",
        "colab": {}
      },
      "source": [
        "Predicted_Labels = [0, 1, 0, 0, 0, 1, 0, 0, 1, 1, 1, 1, 0, 1, 0, 1, 0, 0, 0, 1,\n",
        "                    1, 0, 0, 0, 0, 0, 1, 1, 1, 1, 0, 1, 1, 1, 1, 0, 1, 1, 0, 0, \n",
        "                    0, 0, 0, 1, 1, 0, 0, 1, 1, 1, 1, 0, 1, 0, 0, 0, 0, 1, 1, 1, \n",
        "                    1, 1, 0, 1, 1, 0, 0, 1, 0, 1, 1, 1, 0, 0, 1, 1, 1, 1, 0, 0, \n",
        "                    1, 0, 0, 1, 1, 0, 0, 1, 1, 0, 0, 0, 0, 0, 1, 0, 1, 1, 0, 1]"
      ],
      "execution_count": 7,
      "outputs": []
    },
    {
      "cell_type": "code",
      "metadata": {
        "id": "SsG-MgZYUJMI",
        "colab_type": "code",
        "colab": {
          "base_uri": "https://localhost:8080/",
          "height": 51
        },
        "outputId": "93552cd5-b12e-46a8-e13f-41eaa7e0b968"
      },
      "source": [
        "import sklearn.metrics as skMetrics\n",
        "skMetrics.confusion_matrix(Actual_Labels, Predicted_Labels) "
      ],
      "execution_count": 8,
      "outputs": [
        {
          "output_type": "execute_result",
          "data": {
            "text/plain": [
              "array([[25, 27],\n",
              "       [24, 24]])"
            ]
          },
          "metadata": {
            "tags": []
          },
          "execution_count": 8
        }
      ]
    },
    {
      "cell_type": "code",
      "metadata": {
        "id": "JmT3_tKyVHhU",
        "colab_type": "code",
        "colab": {
          "base_uri": "https://localhost:8080/",
          "height": 34
        },
        "outputId": "b836014b-efe9-42b8-d867-7f4f7befcbc2"
      },
      "source": [
        "# Accuracy is a measure for correct predictions over all predictions made\n",
        "skMetrics.accuracy_score(Actual_Labels, Predicted_Labels)"
      ],
      "execution_count": 9,
      "outputs": [
        {
          "output_type": "execute_result",
          "data": {
            "text/plain": [
              "0.49"
            ]
          },
          "metadata": {
            "tags": []
          },
          "execution_count": 9
        }
      ]
    },
    {
      "cell_type": "code",
      "metadata": {
        "id": "qG6XeJTYVTMv",
        "colab_type": "code",
        "colab": {
          "base_uri": "https://localhost:8080/",
          "height": 34
        },
        "outputId": "093d5e81-0388-40c4-a8d7-034e7db43e73"
      },
      "source": [
        "# Precision is a measure to detect what proportion of predicted fake bills were \n",
        "# actually fake.\n",
        "skMetrics.precision_score(Actual_Labels, Predicted_Labels)"
      ],
      "execution_count": 10,
      "outputs": [
        {
          "output_type": "execute_result",
          "data": {
            "text/plain": [
              "0.47058823529411764"
            ]
          },
          "metadata": {
            "tags": []
          },
          "execution_count": 10
        }
      ]
    },
    {
      "cell_type": "code",
      "metadata": {
        "id": "Vabqy8pJVY8L",
        "colab_type": "code",
        "colab": {
          "base_uri": "https://localhost:8080/",
          "height": 34
        },
        "outputId": "15fba00b-de21-413c-e1ad-51699e29e9df"
      },
      "source": [
        "# Recall is a measure that tells what portion of the bills that were fake were \n",
        "# detected fake by the model. \n",
        "# As per our case of fake bills detection, we need to get the recall score high \n",
        "# so that our model becomes reliable and also a good precision score with it.\n",
        "skMetrics.recall_score(Actual_Labels, Predicted_Labels)"
      ],
      "execution_count": 11,
      "outputs": [
        {
          "output_type": "execute_result",
          "data": {
            "text/plain": [
              "0.5"
            ]
          },
          "metadata": {
            "tags": []
          },
          "execution_count": 11
        }
      ]
    },
    {
      "cell_type": "code",
      "metadata": {
        "id": "Vb9otik_ZMF1",
        "colab_type": "code",
        "colab": {
          "base_uri": "https://localhost:8080/",
          "height": 34
        },
        "outputId": "eceab0e6-cb55-493e-a465-3d914fcef44a"
      },
      "source": [
        "# To combine and get the model efficieny by a single measure we use F-1 score.\n",
        "# This metric uses harmonic mean with precision and recall value.\n",
        "skMetrics.f1_score(Actual_Labels, Predicted_Labels)"
      ],
      "execution_count": 12,
      "outputs": [
        {
          "output_type": "execute_result",
          "data": {
            "text/plain": [
              "0.48484848484848486"
            ]
          },
          "metadata": {
            "tags": []
          },
          "execution_count": 12
        }
      ]
    }
  ]
}