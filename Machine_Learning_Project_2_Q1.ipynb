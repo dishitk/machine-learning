{
  "nbformat": 4,
  "nbformat_minor": 0,
  "metadata": {
    "colab": {
      "name": "Machine_Learning_Project_2_Q1.ipynb",
      "provenance": [],
      "collapsed_sections": [],
      "mount_file_id": "1HNFOoxXXkRGVkBs3O4YAO9RyG6-GNe9K",
      "authorship_tag": "ABX9TyMdPUkV1opoZPvd2NKeggDr",
      "include_colab_link": true
    },
    "kernelspec": {
      "name": "python3",
      "display_name": "Python 3"
    }
  },
  "cells": [
    {
      "cell_type": "markdown",
      "metadata": {
        "id": "view-in-github",
        "colab_type": "text"
      },
      "source": [
        "<a href=\"https://colab.research.google.com/github/dishitk/machine-learning/blob/master/Machine_Learning_Project_2_Q1.ipynb\" target=\"_parent\"><img src=\"https://colab.research.google.com/assets/colab-badge.svg\" alt=\"Open In Colab\"/></a>"
      ]
    },
    {
      "cell_type": "code",
      "metadata": {
        "id": "hgQeQFmNxT3E"
      },
      "source": [
        "import numpy as np\n",
        "import pandas as pd\n",
        "import matplotlib.pyplot as plt\n",
        "from sklearn.model_selection import train_test_split\n",
        "from sklearn.preprocessing import StandardScaler"
      ],
      "execution_count": null,
      "outputs": []
    },
    {
      "cell_type": "code",
      "metadata": {
        "id": "6Yupp7Nbznkz",
        "outputId": "b55d99a4-1508-4aab-a73c-46fb9783e440",
        "colab": {
          "base_uri": "https://localhost:8080/",
          "height": 224
        }
      },
      "source": [
        "df = pd.read_csv('/content/drive/My Drive/kc_house_data.csv')\n",
        "df.head(5)"
      ],
      "execution_count": null,
      "outputs": [
        {
          "output_type": "execute_result",
          "data": {
            "text/html": [
              "<div>\n",
              "<style scoped>\n",
              "    .dataframe tbody tr th:only-of-type {\n",
              "        vertical-align: middle;\n",
              "    }\n",
              "\n",
              "    .dataframe tbody tr th {\n",
              "        vertical-align: top;\n",
              "    }\n",
              "\n",
              "    .dataframe thead th {\n",
              "        text-align: right;\n",
              "    }\n",
              "</style>\n",
              "<table border=\"1\" class=\"dataframe\">\n",
              "  <thead>\n",
              "    <tr style=\"text-align: right;\">\n",
              "      <th></th>\n",
              "      <th>id</th>\n",
              "      <th>date</th>\n",
              "      <th>price</th>\n",
              "      <th>bedrooms</th>\n",
              "      <th>bathrooms</th>\n",
              "      <th>sqft_living</th>\n",
              "      <th>sqft_lot</th>\n",
              "      <th>floors</th>\n",
              "      <th>waterfront</th>\n",
              "      <th>view</th>\n",
              "      <th>condition</th>\n",
              "      <th>grade</th>\n",
              "      <th>sqft_above</th>\n",
              "      <th>sqft_basement</th>\n",
              "      <th>yr_built</th>\n",
              "      <th>yr_renovated</th>\n",
              "      <th>zipcode</th>\n",
              "      <th>lat</th>\n",
              "      <th>long</th>\n",
              "      <th>sqft_living15</th>\n",
              "      <th>sqft_lot15</th>\n",
              "    </tr>\n",
              "  </thead>\n",
              "  <tbody>\n",
              "    <tr>\n",
              "      <th>0</th>\n",
              "      <td>7129300520</td>\n",
              "      <td>20141013T000000</td>\n",
              "      <td>221900.0</td>\n",
              "      <td>3</td>\n",
              "      <td>1.00</td>\n",
              "      <td>1180</td>\n",
              "      <td>5650</td>\n",
              "      <td>1.0</td>\n",
              "      <td>0</td>\n",
              "      <td>0</td>\n",
              "      <td>3</td>\n",
              "      <td>7</td>\n",
              "      <td>1180</td>\n",
              "      <td>0</td>\n",
              "      <td>1955</td>\n",
              "      <td>0</td>\n",
              "      <td>98178</td>\n",
              "      <td>47.5112</td>\n",
              "      <td>-122.257</td>\n",
              "      <td>1340</td>\n",
              "      <td>5650</td>\n",
              "    </tr>\n",
              "    <tr>\n",
              "      <th>1</th>\n",
              "      <td>6414100192</td>\n",
              "      <td>20141209T000000</td>\n",
              "      <td>538000.0</td>\n",
              "      <td>3</td>\n",
              "      <td>2.25</td>\n",
              "      <td>2570</td>\n",
              "      <td>7242</td>\n",
              "      <td>2.0</td>\n",
              "      <td>0</td>\n",
              "      <td>0</td>\n",
              "      <td>3</td>\n",
              "      <td>7</td>\n",
              "      <td>2170</td>\n",
              "      <td>400</td>\n",
              "      <td>1951</td>\n",
              "      <td>1991</td>\n",
              "      <td>98125</td>\n",
              "      <td>47.7210</td>\n",
              "      <td>-122.319</td>\n",
              "      <td>1690</td>\n",
              "      <td>7639</td>\n",
              "    </tr>\n",
              "    <tr>\n",
              "      <th>2</th>\n",
              "      <td>5631500400</td>\n",
              "      <td>20150225T000000</td>\n",
              "      <td>180000.0</td>\n",
              "      <td>2</td>\n",
              "      <td>1.00</td>\n",
              "      <td>770</td>\n",
              "      <td>10000</td>\n",
              "      <td>1.0</td>\n",
              "      <td>0</td>\n",
              "      <td>0</td>\n",
              "      <td>3</td>\n",
              "      <td>6</td>\n",
              "      <td>770</td>\n",
              "      <td>0</td>\n",
              "      <td>1933</td>\n",
              "      <td>0</td>\n",
              "      <td>98028</td>\n",
              "      <td>47.7379</td>\n",
              "      <td>-122.233</td>\n",
              "      <td>2720</td>\n",
              "      <td>8062</td>\n",
              "    </tr>\n",
              "    <tr>\n",
              "      <th>3</th>\n",
              "      <td>2487200875</td>\n",
              "      <td>20141209T000000</td>\n",
              "      <td>604000.0</td>\n",
              "      <td>4</td>\n",
              "      <td>3.00</td>\n",
              "      <td>1960</td>\n",
              "      <td>5000</td>\n",
              "      <td>1.0</td>\n",
              "      <td>0</td>\n",
              "      <td>0</td>\n",
              "      <td>5</td>\n",
              "      <td>7</td>\n",
              "      <td>1050</td>\n",
              "      <td>910</td>\n",
              "      <td>1965</td>\n",
              "      <td>0</td>\n",
              "      <td>98136</td>\n",
              "      <td>47.5208</td>\n",
              "      <td>-122.393</td>\n",
              "      <td>1360</td>\n",
              "      <td>5000</td>\n",
              "    </tr>\n",
              "    <tr>\n",
              "      <th>4</th>\n",
              "      <td>1954400510</td>\n",
              "      <td>20150218T000000</td>\n",
              "      <td>510000.0</td>\n",
              "      <td>3</td>\n",
              "      <td>2.00</td>\n",
              "      <td>1680</td>\n",
              "      <td>8080</td>\n",
              "      <td>1.0</td>\n",
              "      <td>0</td>\n",
              "      <td>0</td>\n",
              "      <td>3</td>\n",
              "      <td>8</td>\n",
              "      <td>1680</td>\n",
              "      <td>0</td>\n",
              "      <td>1987</td>\n",
              "      <td>0</td>\n",
              "      <td>98074</td>\n",
              "      <td>47.6168</td>\n",
              "      <td>-122.045</td>\n",
              "      <td>1800</td>\n",
              "      <td>7503</td>\n",
              "    </tr>\n",
              "  </tbody>\n",
              "</table>\n",
              "</div>"
            ],
            "text/plain": [
              "           id             date     price  ...     long  sqft_living15  sqft_lot15\n",
              "0  7129300520  20141013T000000  221900.0  ... -122.257           1340        5650\n",
              "1  6414100192  20141209T000000  538000.0  ... -122.319           1690        7639\n",
              "2  5631500400  20150225T000000  180000.0  ... -122.233           2720        8062\n",
              "3  2487200875  20141209T000000  604000.0  ... -122.393           1360        5000\n",
              "4  1954400510  20150218T000000  510000.0  ... -122.045           1800        7503\n",
              "\n",
              "[5 rows x 21 columns]"
            ]
          },
          "metadata": {
            "tags": []
          },
          "execution_count": 2
        }
      ]
    },
    {
      "cell_type": "code",
      "metadata": {
        "id": "4o5V0WVIoWtA",
        "outputId": "bb85d382-cb6c-41d1-de37-b91f63046d9d",
        "colab": {
          "base_uri": "https://localhost:8080/",
          "height": 1000
        }
      },
      "source": [
        "# Feature Selection Analysis\n",
        "import seaborn as sns\n",
        "corr = df.corr()\n",
        "\n",
        "plt.figure(figsize=(11, 9))\n",
        "\n",
        "ax = sns.heatmap(\n",
        "    corr, \n",
        "    vmin=-1, vmax=1, center=0,\n",
        "    cmap=sns.diverging_palette(20, 250, n=200),\n",
        "    square=True\n",
        ")\n",
        "ax.set_xticklabels(\n",
        "    ax.get_xticklabels(),\n",
        "    rotation=45,\n",
        "    horizontalalignment='right'\n",
        ");\n",
        "\n",
        "plt.figure(figsize=(11, 7))\n",
        "plt.scatter(X, Y, color='green')\n",
        "plt.xlabel(\"sqft_living\")\n",
        "plt.ylabel(\"Price\")\n",
        "plt.title(\"Feature(sqft_living) v/s price\")\n",
        "plt.show()\n"
      ],
      "execution_count": null,
      "outputs": [
        {
          "output_type": "display_data",
          "data": {
            "image/png": "[encoded data removed]",
            "text/plain": [
              "<Figure size 792x648 with 2 Axes>"
            ]
          },
          "metadata": {
            "tags": [],
            "needs_background": "light"
          }
        },
        {
          "output_type": "display_data",
          "data": {
            "image/png": "[encoded data removed]",
            "text/plain": [
              "<Figure size 792x504 with 1 Axes>"
            ]
          },
          "metadata": {
            "tags": [],
            "needs_background": "light"
          }
        }
      ]
    },
    {
      "cell_type": "code",
      "metadata": {
        "id": "LxufTL3kz51T",
        "outputId": "bf554144-093a-4b76-ff26-9c42b6e6fade",
        "colab": {
          "base_uri": "https://localhost:8080/"
        }
      },
      "source": [
        "X = np.array(df['sqft_living']).reshape(-1, 1)\n",
        "Y = np.array(df['price'])\n",
        "print(X.shape)\n",
        "print(Y.shape)"
      ],
      "execution_count": null,
      "outputs": [
        {
          "output_type": "stream",
          "text": [
            "(21613, 1)\n",
            "(21613,)\n"
          ],
          "name": "stdout"
        }
      ]
    },
    {
      "cell_type": "code",
      "metadata": {
        "id": "odRaBR7J2M_q",
        "outputId": "9f4393db-a0be-4fa4-82ee-b856ff2c2af9",
        "colab": {
          "base_uri": "https://localhost:8080/"
        }
      },
      "source": [
        "X_train, X_test, Y_train, Y_test = train_test_split(X,Y,test_size=0.1, random_state=0)\n",
        "print(X_train.shape)\n",
        "print(Y_train.shape)\n",
        "print(X_test.shape)\n",
        "print(Y_test.shape)"
      ],
      "execution_count": null,
      "outputs": [
        {
          "output_type": "stream",
          "text": [
            "(19451, 1)\n",
            "(19451,)\n",
            "(2162, 1)\n",
            "(2162,)\n"
          ],
          "name": "stdout"
        }
      ]
    },
    {
      "cell_type": "code",
      "metadata": {
        "id": "FzWqnZWphFPd"
      },
      "source": [
        "def fit(x_features,y_label, learning_rate, epochs):\n",
        "  beta_0 = 0\n",
        "  beta_1 = 0\n",
        "\n",
        "  len_X_train = float(len(x_features))\n",
        "  scaler = StandardScaler()\n",
        "  X_train_scaled = scaler.fit_transform(x_features).flatten()\n",
        "\n",
        "  for i in range(epochs):\n",
        "    predictions_lr = beta_1 * X_train_scaled + beta_0\n",
        "    if i % 300 == 0:\n",
        "      print(\"Epoch: \", i)\n",
        "      print(\"Cost: \",(1/len_X_train)*np.sum(np.square(np.subtract(y_label,predictions_lr))))\n",
        "      print(\"Coefficient: \", beta_1)\n",
        "      print(\"Intercept: \", beta_0)\n",
        "      print('---------')\n",
        "    dbeta_1 = (-2/len_X_train) * np.sum(np.multiply(X_train_scaled, np.subtract(y_label,predictions_lr)))\n",
        "    dbeta_0 = (-2/len_X_train) * np.sum(np.subtract(y_label,predictions_lr))\n",
        "    beta_1 -= (learning_rate * dbeta_1)\n",
        "    beta_0 -= (learning_rate * dbeta_0)\n",
        "  return beta_0, beta_1"
      ],
      "execution_count": null,
      "outputs": []
    },
    {
      "cell_type": "code",
      "metadata": {
        "id": "ekuFOqH7Rn5u",
        "outputId": "23ede459-fd31-4e63-f58e-1f14627c5d60",
        "colab": {
          "base_uri": "https://localhost:8080/"
        }
      },
      "source": [
        "intercept, beta_1 = fit(X_train, Y_train, 0.01, 1501)\n",
        "scaler = StandardScaler()\n",
        "X_test_scaled = scaler.fit_transform(X_test)\n",
        "test_predictions = beta_1 * X_test_scaled + intercept\n",
        "print(\"Test Set Predictions\")\n",
        "print(test_predictions.flatten()[0:5])\n",
        "print('---------')\n",
        "print(\"Test Set Actual Values\")\n",
        "print(Y_test[0:5])\n",
        "print('---------')\n",
        "from sklearn.metrics import r2_score\n",
        "from sklearn.metrics import mean_absolute_error\n",
        "print(\"R2 Score: \", r2_score(Y_test, test_predictions))\n",
        "print('---------')\n",
        "print(\"Mean Absolute Error: \", mean_absolute_error(Y_test, test_predictions))"
      ],
      "execution_count": null,
      "outputs": [
        {
          "output_type": "stream",
          "text": [
            "Epoch  0\n",
            "Cost:  430158323119.5021\n",
            "Coefficient:  0\n",
            "Intercept:  0\n",
            "---------\n",
            "Epoch  300\n",
            "Cost:  69135057570.89153\n",
            "Coefficient:  259516.59217120835\n",
            "Intercept:  540364.8263186814\n",
            "---------\n",
            "Epoch  600\n",
            "Cost:  69133093393.96191\n",
            "Coefficient:  260121.91609337518\n",
            "Intercept:  541625.2303388315\n",
            "---------\n",
            "Epoch  900\n",
            "Cost:  69133093383.27565\n",
            "Coefficient:  260123.32801485463\n",
            "Intercept:  541628.1702383523\n",
            "---------\n",
            "Epoch  1200\n",
            "Cost:  69133093383.27559\n",
            "Coefficient:  260123.33130816944\n",
            "Intercept:  541628.1770956842\n",
            "---------\n",
            "Epoch  1500\n",
            "Cost:  69133093383.2756\n",
            "Coefficient:  260123.33131585116\n",
            "Intercept:  541628.1771116795\n",
            "---------\n",
            "Test Set Predictions\n",
            "[ 356518.10188099 1306105.44655068  359448.92701886  268593.34774491\n",
            "  869412.50100814]\n",
            "---------\n",
            "Test Set Actual Values\n",
            "[ 297000. 1578000.  562100.  631500.  780000.]\n",
            "---------\n",
            "R2 Score:  0.46830596942707525\n",
            "---------\n",
            "Mean Absolute Error:  172755.61961650455\n"
          ],
          "name": "stdout"
        }
      ]
    }
  ]
}